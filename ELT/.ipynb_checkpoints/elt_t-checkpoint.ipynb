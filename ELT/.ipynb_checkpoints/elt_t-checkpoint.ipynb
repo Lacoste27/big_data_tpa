{
 "cells": [
  {
   "cell_type": "code",
   "execution_count": 1,
   "id": "982d8180-0b89-4a14-acda-e0705abcfe7e",
   "metadata": {},
   "outputs": [],
   "source": [
    "import pymongo\n",
    "import pandas as pd\n",
    "from pyhive import hive\n",
    "from urllib.parse import quote\n",
    "import urllib.parse"
   ]
  },
  {
   "cell_type": "code",
   "execution_count": 2,
   "id": "c41dce6b-1b84-47de-9c78-cac69fe1bea5",
   "metadata": {},
   "outputs": [],
   "source": [
    "client = pymongo.MongoClient(\"mongodb://localhost:27017/\")\n",
    "db = client[\"concessionaire_voiture\"] \n",
    "collection = db[\"clients\"]  \n",
    "\n",
    "cursor = collection.find({})"
   ]
  },
  {
   "cell_type": "code",
   "execution_count": 3,
   "id": "192b1587-593e-4696-8a2f-848ca3b0a42c",
   "metadata": {},
   "outputs": [],
   "source": [
    "df = pd.DataFrame(list(cursor))"
   ]
  },
  {
   "cell_type": "code",
   "execution_count": 4,
   "id": "ed2aca6e-8d39-428a-a279-07e913f955e8",
   "metadata": {},
   "outputs": [],
   "source": [
    "client.close()"
   ]
  },
  {
   "cell_type": "code",
   "execution_count": 5,
   "id": "c59d37ed-f34e-40b9-a553-7b59b8a2bee7",
   "metadata": {},
   "outputs": [
    {
     "name": "stdout",
     "output_type": "stream",
     "text": [
      "200000\n",
      "198793\n"
     ]
    }
   ],
   "source": [
    "# remove all lines with missing values \n",
    "print(df.shape[0])\n",
    "df.replace('', pd.NA, inplace=True) \n",
    "df.dropna(inplace=True)\n",
    "print(df.shape[0])"
   ]
  },
  {
   "cell_type": "code",
   "execution_count": 6,
   "id": "b6a835b4-98a0-4118-b95e-12e706f1e7ea",
   "metadata": {},
   "outputs": [
    {
     "name": "stdout",
     "output_type": "stream",
     "text": [
      "198000\n"
     ]
    }
   ],
   "source": [
    "df['age'] = pd.to_numeric(df['age'], errors='coerce')\n",
    "df['taux'] = pd.to_numeric(df['taux'], errors='coerce')\n",
    "df['nbEnfantsAcharge'] = pd.to_numeric(df['nbEnfantsAcharge'], errors='coerce')\n",
    "df = df[(df['age'] >= 0) & (df['taux'] >= 0)]\n",
    "print(df.shape[0])\n"
   ]
  },
  {
   "cell_type": "code",
   "execution_count": 7,
   "id": "7f56d429-aa9b-4240-bcac-8026d4757756",
   "metadata": {},
   "outputs": [
    {
     "name": "stdout",
     "output_type": "stream",
     "text": [
      "[ 4.  0.  3.  1.  2. -1. nan]\n"
     ]
    }
   ],
   "source": [
    "print(df['nbEnfantsAcharge'].unique())"
   ]
  },
  {
   "cell_type": "code",
   "execution_count": 8,
   "id": "6d882024-ae62-4533-9a6b-8e3279e984b9",
   "metadata": {},
   "outputs": [
    {
     "name": "stdout",
     "output_type": "stream",
     "text": [
      "_id                    object\n",
      "age                   float64\n",
      "sexe                   object\n",
      "taux                  float64\n",
      "situationFamiliale     object\n",
      "nbEnfantsAcharge        int64\n",
      "2eme voiture           object\n",
      "immatriculation        object\n",
      "dtype: object\n"
     ]
    }
   ],
   "source": [
    "df['nbEnfantsAcharge'] = df['nbEnfantsAcharge'].fillna(0).astype(int)\n",
    "print(df.dtypes)"
   ]
  },
  {
   "cell_type": "code",
   "execution_count": 9,
   "id": "092094f3-28d4-453b-a8ed-2457d71729d5",
   "metadata": {},
   "outputs": [
    {
     "name": "stdout",
     "output_type": "stream",
     "text": [
      "['M' 'F' 'Masculin' 'Féminin' 'Femme' 'Homme' 'N/D' '?']\n"
     ]
    }
   ],
   "source": [
    "print(df['sexe'].unique())"
   ]
  },
  {
   "cell_type": "code",
   "execution_count": 10,
   "id": "5ad18860-114f-4ad7-b474-bfdd5d797cda",
   "metadata": {},
   "outputs": [
    {
     "name": "stdout",
     "output_type": "stream",
     "text": [
      "sexe\n",
      "M           135315\n",
      "F            58280\n",
      "Masculin      1400\n",
      "Homme         1337\n",
      "Femme          642\n",
      "Féminin        627\n",
      "N/D            200\n",
      "?              199\n",
      "Name: count, dtype: int64\n"
     ]
    }
   ],
   "source": [
    "print(df['sexe'].value_counts())"
   ]
  },
  {
   "cell_type": "code",
   "execution_count": 11,
   "id": "107eb1bd-3065-45bc-b9e5-7f64b810073e",
   "metadata": {},
   "outputs": [],
   "source": [
    "filtered_df = df[~df['sexe'].isin(['N/D', '?']) & (df['sexe']!= '')]"
   ]
  },
  {
   "cell_type": "code",
   "execution_count": 12,
   "id": "176dedf2-0fa9-43d5-88a8-699679a5b45a",
   "metadata": {},
   "outputs": [
    {
     "name": "stdout",
     "output_type": "stream",
     "text": [
      "['M' 'F' 'Masculin' 'Féminin' 'Femme' 'Homme']\n"
     ]
    }
   ],
   "source": [
    "print(filtered_df['sexe'].unique())"
   ]
  },
  {
   "cell_type": "code",
   "execution_count": 13,
   "id": "7ea35136-7cff-414a-a7aa-78b0d1c2ec1e",
   "metadata": {},
   "outputs": [],
   "source": [
    "mapping_gender = {\n",
    "    'F': 'F',\n",
    "    'M': 'H',\n",
    "    'Homme': 'H',\n",
    "    'Femme': 'F',\n",
    "    'Masculin': 'H',\n",
    "    'Féminin': 'F'\n",
    "}"
   ]
  },
  {
   "cell_type": "code",
   "execution_count": 14,
   "id": "f727aad4-e9a6-4d6d-863b-eb62dddccfa1",
   "metadata": {},
   "outputs": [],
   "source": [
    "filtered_df.loc[:, 'sexe'] = filtered_df['sexe'].map(mapping_gender)"
   ]
  },
  {
   "cell_type": "code",
   "execution_count": 15,
   "id": "82131c44-18bb-4c17-ba1e-50533c2c7164",
   "metadata": {},
   "outputs": [
    {
     "name": "stdout",
     "output_type": "stream",
     "text": [
      "['H' 'F']\n"
     ]
    }
   ],
   "source": [
    "print(filtered_df['sexe'].unique())"
   ]
  },
  {
   "cell_type": "code",
   "execution_count": 16,
   "id": "d5af72ad-98ec-4470-bf84-0e57266afb50",
   "metadata": {},
   "outputs": [
    {
     "name": "stdout",
     "output_type": "stream",
     "text": [
      "situationFamiliale\n",
      "En Couple      126760\n",
      "Célibataire     58753\n",
      "Seule            9682\n",
      "Marié(e)         1308\n",
      "Seul              599\n",
      "?                 203\n",
      "N/D               186\n",
      "Divorcée          110\n",
      "Name: count, dtype: int64\n"
     ]
    }
   ],
   "source": [
    "print(filtered_df['situationFamiliale'].value_counts())"
   ]
  },
  {
   "cell_type": "code",
   "execution_count": 17,
   "id": "f198150c-01f1-4e85-a812-d90035058499",
   "metadata": {},
   "outputs": [
    {
     "name": "stdout",
     "output_type": "stream",
     "text": [
      "['En Couple' 'Célibataire' 'Seule' 'Marié(e)' 'Seul' '?' 'N/D' 'Divorcée']\n"
     ]
    }
   ],
   "source": [
    "print(filtered_df['situationFamiliale'].unique())"
   ]
  },
  {
   "cell_type": "code",
   "execution_count": 18,
   "id": "d8a6f24f-b4e6-4d5d-8e25-50c52221773a",
   "metadata": {},
   "outputs": [],
   "source": [
    "filtered_df_ = filtered_df[~filtered_df['situationFamiliale'].isin(['N/D', '?']) & (filtered_df['situationFamiliale']!= '')]"
   ]
  },
  {
   "cell_type": "code",
   "execution_count": 19,
   "id": "a3b8e7ba-c376-4b1e-942a-dc4e467cf65b",
   "metadata": {},
   "outputs": [
    {
     "name": "stdout",
     "output_type": "stream",
     "text": [
      "situationFamiliale\n",
      "En Couple      126760\n",
      "Célibataire     58753\n",
      "Seule            9682\n",
      "Marié(e)         1308\n",
      "Seul              599\n",
      "Divorcée          110\n",
      "Name: count, dtype: int64\n"
     ]
    }
   ],
   "source": [
    "print(filtered_df_['situationFamiliale'].value_counts())"
   ]
  },
  {
   "cell_type": "code",
   "execution_count": 20,
   "id": "94fb4f5e-bd11-4caf-b282-97d030f7d351",
   "metadata": {},
   "outputs": [
    {
     "name": "stdout",
     "output_type": "stream",
     "text": [
      "                    sum_nbEnfantsAcharge  count_situationFamiliale\n",
      "situationFamiliale                                                \n",
      "Célibataire                          -59                     58753\n",
      "Divorcée                             209                       110\n",
      "En Couple                         223726                    126760\n",
      "Marié(e)                            2332                      1308\n",
      "Seul                                   0                       599\n",
      "Seule                              19400                      9682\n"
     ]
    }
   ],
   "source": [
    "filtered_df_copy = filtered_df_.copy()\n",
    "r_nb_enfants = filtered_df_copy.groupby('situationFamiliale').agg({'nbEnfantsAcharge': 'sum', 'situationFamiliale': 'count'})\n",
    "r_nb_enfants.rename(columns={'nbEnfantsAcharge': 'sum_nbEnfantsAcharge', 'situationFamiliale': 'count_situationFamiliale'}, inplace=True)\n",
    "print(r_nb_enfants)"
   ]
  },
  {
   "cell_type": "code",
   "execution_count": 21,
   "id": "2c61dccb-89ce-4468-987e-a641857c85e6",
   "metadata": {},
   "outputs": [
    {
     "name": "stdout",
     "output_type": "stream",
     "text": [
      "nbEnfantsAcharge\n",
      " 3    3251\n",
      " 2    3244\n",
      " 1    3167\n",
      " 0      12\n",
      "-1       8\n",
      "Name: count, dtype: int64\n"
     ]
    }
   ],
   "source": [
    "seul_df = filtered_df_copy[filtered_df_copy['situationFamiliale'] == 'Seule']\n",
    "sum_distinct_nb_enfants_seul = seul_df['nbEnfantsAcharge'].value_counts()\n",
    "print(sum_distinct_nb_enfants_seul)"
   ]
  },
  {
   "cell_type": "code",
   "execution_count": 22,
   "id": "8da363a5-5cf0-4afa-bf6c-dbcf22c3bb10",
   "metadata": {},
   "outputs": [],
   "source": [
    "mapping_marital_status = {\n",
    "    'En Couple': 'En Couple',\n",
    "    'Célibataire': 'Célibataire',\n",
    "    'Seule': 'Seul(e)',\n",
    "    'Marié(e)': 'En Couple',\n",
    "    'Seul': 'Seul(e)',\n",
    "    'Divorcée': 'Divorcée'\n",
    "}"
   ]
  },
  {
   "cell_type": "code",
   "execution_count": 23,
   "id": "291314a5-3bb4-4a7d-afcf-ab6a11167557",
   "metadata": {},
   "outputs": [],
   "source": [
    "filtered_df__ = filtered_df_\n",
    "filtered_df__.loc[:, 'situationFamiliale'] = filtered_df__['situationFamiliale'].map(mapping_marital_status)"
   ]
  },
  {
   "cell_type": "code",
   "execution_count": 24,
   "id": "81739b20-887e-4d03-928c-259d71c1fdd5",
   "metadata": {},
   "outputs": [
    {
     "name": "stdout",
     "output_type": "stream",
     "text": [
      "['En Couple' 'Célibataire' 'Seul(e)' 'Divorcée']\n"
     ]
    }
   ],
   "source": [
    "print(filtered_df__[\"situationFamiliale\"].unique())"
   ]
  },
  {
   "cell_type": "code",
   "execution_count": 25,
   "id": "50264e2b-ff2f-4114-a2af-b00a8fde5874",
   "metadata": {},
   "outputs": [
    {
     "name": "stdout",
     "output_type": "stream",
     "text": [
      "2eme voiture\n",
      "false    171401\n",
      "true      25608\n",
      "?           203\n",
      "Name: count, dtype: int64\n"
     ]
    }
   ],
   "source": [
    "print(filtered_df__['2eme voiture'].value_counts())"
   ]
  },
  {
   "cell_type": "code",
   "execution_count": 26,
   "id": "e794c7fb-eaa7-4ced-a7d5-9900e1df5c31",
   "metadata": {},
   "outputs": [],
   "source": [
    "filtered_df___ = filtered_df__[~filtered_df__['2eme voiture'].isin(['?']) & (filtered_df__['2eme voiture']!= '')]"
   ]
  },
  {
   "cell_type": "code",
   "execution_count": 27,
   "id": "8fd2d3c2-f736-42de-a751-b0057217a73b",
   "metadata": {},
   "outputs": [
    {
     "name": "stdout",
     "output_type": "stream",
     "text": [
      "2eme voiture\n",
      "false    171401\n",
      "true      25608\n",
      "Name: count, dtype: int64\n"
     ]
    }
   ],
   "source": [
    "print(filtered_df___['2eme voiture'].value_counts())"
   ]
  },
  {
   "cell_type": "code",
   "execution_count": 28,
   "id": "8ff19fee-b9c4-4f7e-8b8a-91165b65c584",
   "metadata": {},
   "outputs": [
    {
     "name": "stdout",
     "output_type": "stream",
     "text": [
      "Defaulting to user installation because normal site-packages is not writeable\n",
      "Requirement already satisfied: thrift_sasl in /home/vagrant/.local/lib/python3.9/site-packages (0.4.3)\n",
      "Requirement already satisfied: pure-sasl>=0.6.2 in /home/vagrant/.local/lib/python3.9/site-packages (from thrift_sasl) (0.6.2)\n",
      "Requirement already satisfied: six>=1.13.0 in /home/vagrant/.local/lib/python3.9/site-packages (from thrift_sasl) (1.16.0)\n",
      "Requirement already satisfied: thrift>=0.10.0 in /home/vagrant/.local/lib/python3.9/site-packages (from thrift_sasl) (0.20.0)\n"
     ]
    }
   ],
   "source": [
    "!pip install thrift_sasl"
   ]
  },
  {
   "cell_type": "code",
   "execution_count": 29,
   "id": "c3c91c4c-d137-4124-8d63-a33bb93f62b4",
   "metadata": {},
   "outputs": [],
   "source": [
    "conn = hive.Connection(host=\"localhost\", port=10000, username='vagrant', database = \"concessionaire\")\n",
    "\n",
    "cursor = conn.cursor()"
   ]
  },
  {
   "cell_type": "code",
   "execution_count": 32,
   "id": "30c790d6-320d-4388-a1c5-e33108e40f5f",
   "metadata": {},
   "outputs": [],
   "source": [
    "create_table_sql = \"\"\"\n",
    "CREATE TABLE IF NOT EXISTS clients (\n",
    "    age INT,\n",
    "    sexe STRING,\n",
    "    taux DOUBLE,\n",
    "    situationFamiliale STRING,\n",
    "    nbEnfantsAcharge INT,\n",
    "    deuxiemeVoiture STRING,\n",
    "    immatriculation STRING\n",
    ")\n",
    "\"\"\"\n",
    "insert_query = f\"INSERT INTO clients (age, sexe, taux, situationFamiliale, nbEnfantsAcharge, deuxiemeVoiture, immatriculation) VALUES (?, ?, ?, ?, ?, ?, ?)\"\n"
   ]
  },
  {
   "cell_type": "code",
   "execution_count": 33,
   "id": "1cf9965f-efc1-418b-b90b-fe57174a22e5",
   "metadata": {},
   "outputs": [],
   "source": [
    "cursor.execute(create_table_sql)"
   ]
  },
  {
   "cell_type": "code",
   "execution_count": 37,
   "id": "8f3d9b5a-b435-4b88-a34c-74bfd1c3c4b1",
   "metadata": {},
   "outputs": [
    {
     "name": "stdout",
     "output_type": "stream",
     "text": [
      "age                   float64\n",
      "sexe                   object\n",
      "taux                  float64\n",
      "situationFamiliale     object\n",
      "nbEnfantsAcharge        int64\n",
      "deuxiemeVoiture        object\n",
      "immatriculation        object\n",
      "dtype: object\n"
     ]
    }
   ],
   "source": [
    "if '_id' in filtered_df___.columns:\n",
    "    filtered_df___ = filtered_df___.drop('_id', axis=1)\n",
    "if \"2eme voiture\" in filtered_df___.columns:\n",
    "    filtered_df___.rename(columns={'2eme voiture': 'deuxiemeVoiture'}, inplace=True)\n",
    "print(filtered_df___.dtypes)"
   ]
  },
  {
   "cell_type": "code",
   "execution_count": 38,
   "id": "5c143346-b688-4753-b162-1f0f4653bde7",
   "metadata": {},
   "outputs": [
    {
     "data": {
      "text/html": [
       "<div>\n",
       "<style scoped>\n",
       "    .dataframe tbody tr th:only-of-type {\n",
       "        vertical-align: middle;\n",
       "    }\n",
       "\n",
       "    .dataframe tbody tr th {\n",
       "        vertical-align: top;\n",
       "    }\n",
       "\n",
       "    .dataframe thead th {\n",
       "        text-align: right;\n",
       "    }\n",
       "</style>\n",
       "<table border=\"1\" class=\"dataframe\">\n",
       "  <thead>\n",
       "    <tr style=\"text-align: right;\">\n",
       "      <th></th>\n",
       "      <th>age</th>\n",
       "      <th>sexe</th>\n",
       "      <th>taux</th>\n",
       "      <th>situationFamiliale</th>\n",
       "      <th>nbEnfantsAcharge</th>\n",
       "      <th>deuxiemeVoiture</th>\n",
       "      <th>immatriculation</th>\n",
       "    </tr>\n",
       "  </thead>\n",
       "  <tbody>\n",
       "    <tr>\n",
       "      <th>0</th>\n",
       "      <td>58.0</td>\n",
       "      <td>H</td>\n",
       "      <td>921.0</td>\n",
       "      <td>En Couple</td>\n",
       "      <td>4</td>\n",
       "      <td>false</td>\n",
       "      <td>3684 VW 75</td>\n",
       "    </tr>\n",
       "    <tr>\n",
       "      <th>1</th>\n",
       "      <td>57.0</td>\n",
       "      <td>H</td>\n",
       "      <td>462.0</td>\n",
       "      <td>Célibataire</td>\n",
       "      <td>0</td>\n",
       "      <td>false</td>\n",
       "      <td>4650 WY 57</td>\n",
       "    </tr>\n",
       "    <tr>\n",
       "      <th>2</th>\n",
       "      <td>58.0</td>\n",
       "      <td>F</td>\n",
       "      <td>525.0</td>\n",
       "      <td>En Couple</td>\n",
       "      <td>3</td>\n",
       "      <td>true</td>\n",
       "      <td>8157 VN 51</td>\n",
       "    </tr>\n",
       "    <tr>\n",
       "      <th>3</th>\n",
       "      <td>18.0</td>\n",
       "      <td>H</td>\n",
       "      <td>728.0</td>\n",
       "      <td>Célibataire</td>\n",
       "      <td>0</td>\n",
       "      <td>false</td>\n",
       "      <td>9715 CH 60</td>\n",
       "    </tr>\n",
       "    <tr>\n",
       "      <th>4</th>\n",
       "      <td>33.0</td>\n",
       "      <td>H</td>\n",
       "      <td>1113.0</td>\n",
       "      <td>Célibataire</td>\n",
       "      <td>0</td>\n",
       "      <td>false</td>\n",
       "      <td>7679 ZL 41</td>\n",
       "    </tr>\n",
       "    <tr>\n",
       "      <th>...</th>\n",
       "      <td>...</td>\n",
       "      <td>...</td>\n",
       "      <td>...</td>\n",
       "      <td>...</td>\n",
       "      <td>...</td>\n",
       "      <td>...</td>\n",
       "      <td>...</td>\n",
       "    </tr>\n",
       "    <tr>\n",
       "      <th>199995</th>\n",
       "      <td>32.0</td>\n",
       "      <td>H</td>\n",
       "      <td>951.0</td>\n",
       "      <td>En Couple</td>\n",
       "      <td>4</td>\n",
       "      <td>false</td>\n",
       "      <td>9637 QW 55</td>\n",
       "    </tr>\n",
       "    <tr>\n",
       "      <th>199996</th>\n",
       "      <td>28.0</td>\n",
       "      <td>H</td>\n",
       "      <td>201.0</td>\n",
       "      <td>En Couple</td>\n",
       "      <td>3</td>\n",
       "      <td>false</td>\n",
       "      <td>8011 XH 80</td>\n",
       "    </tr>\n",
       "    <tr>\n",
       "      <th>199997</th>\n",
       "      <td>43.0</td>\n",
       "      <td>F</td>\n",
       "      <td>456.0</td>\n",
       "      <td>En Couple</td>\n",
       "      <td>3</td>\n",
       "      <td>false</td>\n",
       "      <td>845 FF 12</td>\n",
       "    </tr>\n",
       "    <tr>\n",
       "      <th>199998</th>\n",
       "      <td>76.0</td>\n",
       "      <td>H</td>\n",
       "      <td>825.0</td>\n",
       "      <td>Célibataire</td>\n",
       "      <td>0</td>\n",
       "      <td>false</td>\n",
       "      <td>8251 NJ 75</td>\n",
       "    </tr>\n",
       "    <tr>\n",
       "      <th>199999</th>\n",
       "      <td>26.0</td>\n",
       "      <td>H</td>\n",
       "      <td>830.0</td>\n",
       "      <td>Célibataire</td>\n",
       "      <td>0</td>\n",
       "      <td>false</td>\n",
       "      <td>6253 NE 73</td>\n",
       "    </tr>\n",
       "  </tbody>\n",
       "</table>\n",
       "<p>197009 rows × 7 columns</p>\n",
       "</div>"
      ],
      "text/plain": [
       "         age sexe    taux situationFamiliale  nbEnfantsAcharge  \\\n",
       "0       58.0    H   921.0          En Couple                 4   \n",
       "1       57.0    H   462.0        Célibataire                 0   \n",
       "2       58.0    F   525.0          En Couple                 3   \n",
       "3       18.0    H   728.0        Célibataire                 0   \n",
       "4       33.0    H  1113.0        Célibataire                 0   \n",
       "...      ...  ...     ...                ...               ...   \n",
       "199995  32.0    H   951.0          En Couple                 4   \n",
       "199996  28.0    H   201.0          En Couple                 3   \n",
       "199997  43.0    F   456.0          En Couple                 3   \n",
       "199998  76.0    H   825.0        Célibataire                 0   \n",
       "199999  26.0    H   830.0        Célibataire                 0   \n",
       "\n",
       "       deuxiemeVoiture immatriculation  \n",
       "0                false      3684 VW 75  \n",
       "1                false      4650 WY 57  \n",
       "2                 true      8157 VN 51  \n",
       "3                false      9715 CH 60  \n",
       "4                false      7679 ZL 41  \n",
       "...                ...             ...  \n",
       "199995           false      9637 QW 55  \n",
       "199996           false      8011 XH 80  \n",
       "199997           false       845 FF 12  \n",
       "199998           false      8251 NJ 75  \n",
       "199999           false      6253 NE 73  \n",
       "\n",
       "[197009 rows x 7 columns]"
      ]
     },
     "execution_count": 38,
     "metadata": {},
     "output_type": "execute_result"
    }
   ],
   "source": [
    "filtered_df___"
   ]
  },
  {
   "cell_type": "code",
   "execution_count": null,
   "id": "ab87ce13-ce62-4a61-9fea-2e7de2c292b1",
   "metadata": {},
   "outputs": [],
   "source": [
    "# csv_path = '/tmp/clients.csv'\n",
    "# filtered_df___.to_csv(csv_path, index=False, header=False)"
   ]
  },
  {
   "cell_type": "code",
   "execution_count": null,
   "id": "ada3145a-59d5-46b5-a601-0d60d09f3d41",
   "metadata": {},
   "outputs": [],
   "source": [
    "# cursor.execute(f\"LOAD DATA LOCAL INPATH '{csv_path}' INTO TABLE clients\")"
   ]
  },
  {
   "cell_type": "code",
   "execution_count": 39,
   "id": "3b776853-fb66-4d6e-b331-3fdc432db717",
   "metadata": {},
   "outputs": [
    {
     "name": "stdout",
     "output_type": "stream",
     "text": [
      "0\n",
      "10000\n",
      "20000\n",
      "30000\n",
      "40000\n",
      "50000\n",
      "60000\n",
      "70000\n",
      "80000\n",
      "90000\n",
      "100000\n",
      "110000\n",
      "120000\n",
      "130000\n",
      "140000\n",
      "150000\n",
      "160000\n",
      "170000\n",
      "180000\n",
      "190000\n"
     ]
    }
   ],
   "source": [
    "batch_size = 10000\n",
    "\n",
    "for i in range(0, len(filtered_df___), batch_size):\n",
    "    batch_df = filtered_df___.iloc[i:i+batch_size]\n",
    "    values = ','.join(['({})'.format(','.join([\"'{}'\".format(str(val)) for val in row])) for row in batch_df.values])\n",
    "    cursor.execute(\"\"\"\n",
    "        INSERT INTO clients (age, sexe, taux, situationFamiliale, nbEnfantsAcharge, deuxiemeVoiture, immatriculation)\n",
    "        VALUES {}\n",
    "    \"\"\".format(values))\n",
    "    \n",
    "    print(i)"
   ]
  },
  {
   "cell_type": "code",
   "execution_count": null,
   "id": "183f6419-4577-4b23-9c75-c5dc2d051a60",
   "metadata": {},
   "outputs": [],
   "source": [
    "# Commit the transaction\n",
    "conn.commit()\n",
    "\n",
    "# Close cursor and connection\n",
    "cursor.close()\n",
    "conn.close()"
   ]
  },
  {
   "cell_type": "code",
   "execution_count": null,
   "id": "c8e17e8c-2e0a-4f83-89e4-ab9498a70743",
   "metadata": {},
   "outputs": [],
   "source": []
  }
 ],
 "metadata": {
  "kernelspec": {
   "display_name": "Python 3 (ipykernel)",
   "language": "python",
   "name": "python3"
  },
  "language_info": {
   "codemirror_mode": {
    "name": "ipython",
    "version": 3
   },
   "file_extension": ".py",
   "mimetype": "text/x-python",
   "name": "python",
   "nbconvert_exporter": "python",
   "pygments_lexer": "ipython3",
   "version": "3.9.18"
  }
 },
 "nbformat": 4,
 "nbformat_minor": 5
}
