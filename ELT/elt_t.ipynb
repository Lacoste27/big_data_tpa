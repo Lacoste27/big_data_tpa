{
 "cells": [
  {
   "cell_type": "code",
   "execution_count": 1,
   "id": "982d8180-0b89-4a14-acda-e0705abcfe7e",
   "metadata": {},
   "outputs": [],
   "source": [
    "import pymongo\n",
    "import pandas as pd\n",
    "from pyhive import hive\n",
    "from urllib.parse import quote\n",
    "import urllib.parse"
   ]
  },
  {
   "cell_type": "code",
   "execution_count": 2,
   "id": "c41dce6b-1b84-47de-9c78-cac69fe1bea5",
   "metadata": {},
   "outputs": [],
   "source": [
    "client = pymongo.MongoClient(\"mongodb://localhost:27017/\")\n",
    "db = client[\"concessionnaire_automobile\"] \n",
    "collection = db[\"clients\"]  \n",
    "\n",
    "cursor = collection.find({})"
   ]
  },
  {
   "cell_type": "code",
   "execution_count": 3,
   "id": "192b1587-593e-4696-8a2f-848ca3b0a42c",
   "metadata": {},
   "outputs": [],
   "source": [
    "df = pd.DataFrame(list(cursor))"
   ]
  },
  {
   "cell_type": "code",
   "execution_count": 4,
   "id": "ed2aca6e-8d39-428a-a279-07e913f955e8",
   "metadata": {},
   "outputs": [],
   "source": [
    "client.close()"
   ]
  },
  {
   "cell_type": "code",
   "execution_count": 5,
   "id": "c59d37ed-f34e-40b9-a553-7b59b8a2bee7",
   "metadata": {},
   "outputs": [
    {
     "name": "stdout",
     "output_type": "stream",
     "text": [
      "200000\n",
      "198793\n"
     ]
    }
   ],
   "source": [
    "# remove all lines with missing values \n",
    "print(df.shape[0])\n",
    "df.replace('', pd.NA, inplace=True) \n",
    "df.dropna(inplace=True)\n",
    "print(df.shape[0])"
   ]
  },
  {
   "cell_type": "code",
   "execution_count": 7,
   "id": "b6a835b4-98a0-4118-b95e-12e706f1e7ea",
   "metadata": {},
   "outputs": [
    {
     "name": "stdout",
     "output_type": "stream",
     "text": [
      "197641\n"
     ]
    }
   ],
   "source": [
    "df['age'] = pd.to_numeric(df['age'], errors='coerce')\n",
    "df['taux'] = pd.to_numeric(df['taux'], errors='coerce')\n",
    "df['nbEnfantsAcharge'] = pd.to_numeric(df['nbEnfantsAcharge'], errors='coerce')\n",
    "df = df[(df['age'] >= 0) & (df['taux'] >= 0) & (df['nbEnfantsAcharge'] >= 0)]\n",
    "print(df.shape[0])"
   ]
  },
  {
   "cell_type": "code",
   "execution_count": 8,
   "id": "092094f3-28d4-453b-a8ed-2457d71729d5",
   "metadata": {},
   "outputs": [
    {
     "name": "stdout",
     "output_type": "stream",
     "text": [
      "['F' 'M' 'N/D' 'Homme' 'Femme' 'Masculin' '?' 'Feminin']\n"
     ]
    }
   ],
   "source": [
    "gender_distinct_values = df['sexe'].unique()\n",
    "print(gender_distinct_values)"
   ]
  },
  {
   "cell_type": "code",
   "execution_count": 9,
   "id": "5ad18860-114f-4ad7-b474-bfdd5d797cda",
   "metadata": {},
   "outputs": [
    {
     "name": "stdout",
     "output_type": "stream",
     "text": [
      "sexe\n",
      "M           135040\n",
      "F            58203\n",
      "Masculin      1400\n",
      "Homme         1335\n",
      "Femme          639\n",
      "Feminin        626\n",
      "N/D            199\n",
      "?              199\n",
      "Name: count, dtype: int64\n"
     ]
    }
   ],
   "source": [
    "gender_counts = df['sexe'].value_counts()\n",
    "print(gender_counts)"
   ]
  },
  {
   "cell_type": "code",
   "execution_count": 10,
   "id": "107eb1bd-3065-45bc-b9e5-7f64b810073e",
   "metadata": {},
   "outputs": [
    {
     "name": "stdout",
     "output_type": "stream",
     "text": [
      "                             _id   age sexe    taux situationFamiliale  \\\n",
      "0       663b73d648d9679b84058df4  80.0    F   475.0          En Couple   \n",
      "1       663b73d648d9679b84058df5  61.0    M   565.0          En Couple   \n",
      "2       663b73d648d9679b84058df6  56.0    M   400.0          En Couple   \n",
      "3       663b73d648d9679b84058df7  79.0    M   535.0          En Couple   \n",
      "4       663b73d648d9679b84058df8  22.0    M   187.0          En Couple   \n",
      "...                          ...   ...  ...     ...                ...   \n",
      "199995  663b73f048d9679b84089bfd  63.0    F  1327.0          En Couple   \n",
      "199996  663b73f048d9679b84089bfe  30.0    F   194.0          En Couple   \n",
      "199997  663b73f048d9679b84089bff  59.0    M   208.0        Celibataire   \n",
      "199998  663b73f048d9679b84089c00  75.0    M   161.0          En Couple   \n",
      "199999  663b73f048d9679b84089c01  21.0    M  1105.0          En Couple   \n",
      "\n",
      "        nbEnfantsAcharge 2eme voiture immatriculation  \n",
      "0                    4.0         true      3591 IK 12  \n",
      "1                    0.0         true      7787 NW 92  \n",
      "2                    4.0        false       653 WI 87  \n",
      "3                    0.0        false      6311 ZZ 15  \n",
      "4                    1.0        false      1157 BL 61  \n",
      "...                  ...          ...             ...  \n",
      "199995               1.0        false      9813 JM 16  \n",
      "199996               1.0        false      5153 LJ 93  \n",
      "199997               0.0        false       669 KP 41  \n",
      "199998               0.0        false      3828 YT 59  \n",
      "199999               1.0        false       241 WM 57  \n",
      "\n",
      "[197243 rows x 8 columns]\n",
      "197243\n"
     ]
    }
   ],
   "source": [
    "filtered_df = df[~df['sexe'].isin(['N/D', '?']) & (df['sexe']!= '')]\n",
    "print(filtered_df)\n",
    "print(filtered_df.shape[0])"
   ]
  },
  {
   "cell_type": "code",
   "execution_count": 11,
   "id": "176dedf2-0fa9-43d5-88a8-699679a5b45a",
   "metadata": {},
   "outputs": [
    {
     "name": "stdout",
     "output_type": "stream",
     "text": [
      "['F' 'M' 'Homme' 'Femme' 'Masculin' 'Feminin']\n"
     ]
    }
   ],
   "source": [
    "distinct_values = filtered_df['sexe'].unique()\n",
    "print(distinct_values)"
   ]
  },
  {
   "cell_type": "code",
   "execution_count": 12,
   "id": "7ea35136-7cff-414a-a7aa-78b0d1c2ec1e",
   "metadata": {},
   "outputs": [
    {
     "name": "stdout",
     "output_type": "stream",
     "text": [
      "                             _id   age sexe    taux situationFamiliale  \\\n",
      "0       663b73d648d9679b84058df4  80.0    F   475.0          En Couple   \n",
      "1       663b73d648d9679b84058df5  61.0    H   565.0          En Couple   \n",
      "2       663b73d648d9679b84058df6  56.0    H   400.0          En Couple   \n",
      "3       663b73d648d9679b84058df7  79.0    H   535.0          En Couple   \n",
      "4       663b73d648d9679b84058df8  22.0    H   187.0          En Couple   \n",
      "...                          ...   ...  ...     ...                ...   \n",
      "199995  663b73f048d9679b84089bfd  63.0    F  1327.0          En Couple   \n",
      "199996  663b73f048d9679b84089bfe  30.0    F   194.0          En Couple   \n",
      "199997  663b73f048d9679b84089bff  59.0    H   208.0        Celibataire   \n",
      "199998  663b73f048d9679b84089c00  75.0    H   161.0          En Couple   \n",
      "199999  663b73f048d9679b84089c01  21.0    H  1105.0          En Couple   \n",
      "\n",
      "        nbEnfantsAcharge 2eme voiture immatriculation  \n",
      "0                    4.0         true      3591 IK 12  \n",
      "1                    0.0         true      7787 NW 92  \n",
      "2                    4.0        false       653 WI 87  \n",
      "3                    0.0        false      6311 ZZ 15  \n",
      "4                    1.0        false      1157 BL 61  \n",
      "...                  ...          ...             ...  \n",
      "199995               1.0        false      9813 JM 16  \n",
      "199996               1.0        false      5153 LJ 93  \n",
      "199997               0.0        false       669 KP 41  \n",
      "199998               0.0        false      3828 YT 59  \n",
      "199999               1.0        false       241 WM 57  \n",
      "\n",
      "[197243 rows x 8 columns]\n"
     ]
    }
   ],
   "source": [
    "mapping_gender = {\n",
    "    'F': 'F',\n",
    "    'M': 'H',\n",
    "    'Homme': 'H',\n",
    "    'Femme': 'F',\n",
    "    'Masculin': 'H',\n",
    "    'Feminin': 'F'\n",
    "}\n",
    "filtered_df.loc[:, 'sexe'] = filtered_df['sexe'].map(mapping_gender)\n",
    "print(filtered_df)"
   ]
  },
  {
   "cell_type": "code",
   "execution_count": 13,
   "id": "82131c44-18bb-4c17-ba1e-50533c2c7164",
   "metadata": {},
   "outputs": [
    {
     "name": "stdout",
     "output_type": "stream",
     "text": [
      "197243\n"
     ]
    }
   ],
   "source": [
    "print(filtered_df.shape[0])"
   ]
  },
  {
   "cell_type": "code",
   "execution_count": 14,
   "id": "d5af72ad-98ec-4470-bf84-0e57266afb50",
   "metadata": {},
   "outputs": [
    {
     "name": "stdout",
     "output_type": "stream",
     "text": [
      "situationFamiliale\n",
      "En Couple      126534\n",
      "Celibataire     58644\n",
      "Seule            9662\n",
      "Marie(e)         1307\n",
      "Seul              598\n",
      "?                 202\n",
      "N/D               186\n",
      "Divorcee          110\n",
      "Name: count, dtype: int64\n"
     ]
    }
   ],
   "source": [
    "ms_counts = filtered_df['situationFamiliale'].value_counts()\n",
    "print(ms_counts)"
   ]
  },
  {
   "cell_type": "code",
   "execution_count": 15,
   "id": "f198150c-01f1-4e85-a812-d90035058499",
   "metadata": {},
   "outputs": [
    {
     "name": "stdout",
     "output_type": "stream",
     "text": [
      "['En Couple' 'Celibataire' 'Seule' 'Marie(e)' '?' 'N/D' 'Seul' 'Divorcee']\n"
     ]
    }
   ],
   "source": [
    "marital_status_distinct_values = filtered_df['situationFamiliale'].unique()\n",
    "print(marital_status_distinct_values)"
   ]
  },
  {
   "cell_type": "code",
   "execution_count": 16,
   "id": "d8a6f24f-b4e6-4d5d-8e25-50c52221773a",
   "metadata": {},
   "outputs": [],
   "source": [
    "filtered_df_ = filtered_df[~filtered_df['situationFamiliale'].isin(['N/D', '?']) & (filtered_df['situationFamiliale']!= '')]"
   ]
  },
  {
   "cell_type": "code",
   "execution_count": 17,
   "id": "a3b8e7ba-c376-4b1e-942a-dc4e467cf65b",
   "metadata": {},
   "outputs": [
    {
     "name": "stdout",
     "output_type": "stream",
     "text": [
      "situationFamiliale\n",
      "En Couple      126534\n",
      "Celibataire     58644\n",
      "Seule            9662\n",
      "Marie(e)         1307\n",
      "Seul              598\n",
      "Divorcee          110\n",
      "Name: count, dtype: int64\n"
     ]
    }
   ],
   "source": [
    "ms_counts = filtered_df_['situationFamiliale'].value_counts()\n",
    "print(ms_counts)"
   ]
  },
  {
   "cell_type": "code",
   "execution_count": 21,
   "id": "94fb4f5e-bd11-4caf-b282-97d030f7d351",
   "metadata": {},
   "outputs": [
    {
     "name": "stdout",
     "output_type": "stream",
     "text": [
      "                    sum_nbEnfantsAcharge  count_situationFamiliale\n",
      "situationFamiliale                                                \n",
      "Celibataire                          0.0                     58644\n",
      "Divorcee                           209.0                       110\n",
      "En Couple                       223834.0                    126534\n",
      "Marie(e)                          2333.0                      1307\n",
      "Seul                                 0.0                       598\n",
      "Seule                            19408.0                      9662\n"
     ]
    }
   ],
   "source": [
    "filtered_df_copy = filtered_df_.copy()\n",
    "r_nb_enfants = filtered_df_copy.groupby('situationFamiliale').agg({'nbEnfantsAcharge': 'sum', 'situationFamiliale': 'count'})\n",
    "r_nb_enfants.rename(columns={'nbEnfantsAcharge': 'sum_nbEnfantsAcharge', 'situationFamiliale': 'count_situationFamiliale'}, inplace=True)\n",
    "print(r_nb_enfants)"
   ]
  },
  {
   "cell_type": "code",
   "execution_count": 27,
   "id": "2c61dccb-89ce-4468-987e-a641857c85e6",
   "metadata": {},
   "outputs": [
    {
     "name": "stdout",
     "output_type": "stream",
     "text": [
      "nbEnfantsAcharge\n",
      "3.0    3251\n",
      "2.0    3244\n",
      "1.0    3167\n",
      "Name: count, dtype: int64\n"
     ]
    }
   ],
   "source": [
    "seul_df = filtered_df_copy[filtered_df_copy['situationFamiliale'] == 'Seule']\n",
    "sum_distinct_nb_enfants_seul = seul_df['nbEnfantsAcharge'].value_counts()\n",
    "print(sum_distinct_nb_enfants_seul)"
   ]
  },
  {
   "cell_type": "code",
   "execution_count": 28,
   "id": "8da363a5-5cf0-4afa-bf6c-dbcf22c3bb10",
   "metadata": {},
   "outputs": [
    {
     "name": "stdout",
     "output_type": "stream",
     "text": [
      "                             _id   age sexe    taux situationFamiliale  \\\n",
      "0       663b73d648d9679b84058df4  80.0    F   475.0          En Couple   \n",
      "1       663b73d648d9679b84058df5  61.0    H   565.0          En Couple   \n",
      "2       663b73d648d9679b84058df6  56.0    H   400.0          En Couple   \n",
      "3       663b73d648d9679b84058df7  79.0    H   535.0          En Couple   \n",
      "4       663b73d648d9679b84058df8  22.0    H   187.0          En Couple   \n",
      "...                          ...   ...  ...     ...                ...   \n",
      "199995  663b73f048d9679b84089bfd  63.0    F  1327.0          En Couple   \n",
      "199996  663b73f048d9679b84089bfe  30.0    F   194.0          En Couple   \n",
      "199997  663b73f048d9679b84089bff  59.0    H   208.0        Celibataire   \n",
      "199998  663b73f048d9679b84089c00  75.0    H   161.0          En Couple   \n",
      "199999  663b73f048d9679b84089c01  21.0    H  1105.0          En Couple   \n",
      "\n",
      "        nbEnfantsAcharge 2eme voiture immatriculation  \n",
      "0                    4.0         true      3591 IK 12  \n",
      "1                    0.0         true      7787 NW 92  \n",
      "2                    4.0        false       653 WI 87  \n",
      "3                    0.0        false      6311 ZZ 15  \n",
      "4                    1.0        false      1157 BL 61  \n",
      "...                  ...          ...             ...  \n",
      "199995               1.0        false      9813 JM 16  \n",
      "199996               1.0        false      5153 LJ 93  \n",
      "199997               0.0        false       669 KP 41  \n",
      "199998               0.0        false      3828 YT 59  \n",
      "199999               1.0        false       241 WM 57  \n",
      "\n",
      "[196855 rows x 8 columns]\n"
     ]
    }
   ],
   "source": [
    "mapping_marital_status = {\n",
    "    'En Couple': 'En Couple',\n",
    "    'Celibataire': 'Celibataire',\n",
    "    'Seule': 'Seul(e)',\n",
    "    'Marie(e)': 'En Couple',\n",
    "    'Seul': 'Seul(e)',\n",
    "    'Divorcee': 'Divorce(e)'\n",
    "}\n",
    "filtered_df__ = filtered_df_\n",
    "filtered_df__.loc[:, 'situationFamiliale'] = filtered_df__['situationFamiliale'].map(mapping_marital_status)\n",
    "print(filtered_df__)"
   ]
  },
  {
   "cell_type": "code",
   "execution_count": 29,
   "id": "81739b20-887e-4d03-928c-259d71c1fdd5",
   "metadata": {},
   "outputs": [
    {
     "name": "stdout",
     "output_type": "stream",
     "text": [
      "['En Couple' 'Celibataire' 'Seul(e)' 'Divorce(e)']\n"
     ]
    }
   ],
   "source": [
    "d = filtered_df__[\"situationFamiliale\"].unique()\n",
    "print(d)"
   ]
  },
  {
   "cell_type": "code",
   "execution_count": 30,
   "id": "50264e2b-ff2f-4114-a2af-b00a8fde5874",
   "metadata": {},
   "outputs": [
    {
     "name": "stdout",
     "output_type": "stream",
     "text": [
      "2eme voiture\n",
      "false    171096\n",
      "true      25557\n",
      "?           202\n",
      "Name: count, dtype: int64\n"
     ]
    }
   ],
   "source": [
    "_2nd_car_counts = filtered_df__['2eme voiture'].value_counts()\n",
    "print(_2nd_car_counts)"
   ]
  },
  {
   "cell_type": "code",
   "execution_count": 31,
   "id": "e794c7fb-eaa7-4ced-a7d5-9900e1df5c31",
   "metadata": {},
   "outputs": [],
   "source": [
    "filtered_df___ = filtered_df__[~filtered_df__['2eme voiture'].isin(['?']) & (filtered_df__['2eme voiture']!= '')]"
   ]
  },
  {
   "cell_type": "code",
   "execution_count": 32,
   "id": "8fd2d3c2-f736-42de-a751-b0057217a73b",
   "metadata": {},
   "outputs": [
    {
     "name": "stdout",
     "output_type": "stream",
     "text": [
      "2eme voiture\n",
      "false    171096\n",
      "true      25557\n",
      "Name: count, dtype: int64\n"
     ]
    }
   ],
   "source": [
    "_2nd_car_counts = filtered_df___['2eme voiture'].value_counts()\n",
    "print(_2nd_car_counts)"
   ]
  },
  {
   "cell_type": "code",
   "execution_count": 33,
   "id": "c3c91c4c-d137-4124-8d63-a33bb93f62b4",
   "metadata": {},
   "outputs": [],
   "source": [
    "# Establish a connection to Hive\n",
    "conn = hive.Connection(host=\"localhost\", port=10000, username='vagrant' , database = \"concessionnaire_automobile\")\n",
    "\n",
    "# Create a cursor object\n",
    "cursor = conn.cursor()"
   ]
  },
  {
   "cell_type": "code",
   "execution_count": 34,
   "id": "30c790d6-320d-4388-a1c5-e33108e40f5f",
   "metadata": {},
   "outputs": [],
   "source": [
    "create_table_sql = \"\"\"\n",
    "CREATE TABLE IF NOT EXISTS clients (\n",
    "    age INT,\n",
    "    sexe STRING,\n",
    "    taux DOUBLE,\n",
    "    situationFamiliale STRING,\n",
    "    nbEnfantsAcharge INT,\n",
    "    deuxiemeVoiture STRING,\n",
    "    immatriculation STRING\n",
    ")\n",
    "\"\"\"\n",
    "insert_query = f\"INSERT INTO clients (age, sexe, taux, situationFamiliale, nbEnfantsAcharge, deuxiemeVoiture, immatriculation) VALUES (?, ?, ?, ?, ?, ?, ?)\"\n"
   ]
  },
  {
   "cell_type": "code",
   "execution_count": 35,
   "id": "1cf9965f-efc1-418b-b90b-fe57174a22e5",
   "metadata": {},
   "outputs": [],
   "source": [
    "cursor.execute(create_table_sql)"
   ]
  },
  {
   "cell_type": "code",
   "execution_count": 36,
   "id": "8f3d9b5a-b435-4b88-a34c-74bfd1c3c4b1",
   "metadata": {},
   "outputs": [
    {
     "name": "stdout",
     "output_type": "stream",
     "text": [
      "age                   float64\n",
      "sexe                   object\n",
      "taux                  float64\n",
      "situationFamiliale     object\n",
      "nbEnfantsAcharge      float64\n",
      "deuxiemeVoiture        object\n",
      "immatriculation        object\n",
      "dtype: object\n"
     ]
    }
   ],
   "source": [
    "if '_id' in filtered_df___.columns:\n",
    "    filtered_df___ = filtered_df___.drop('_id', axis=1)\n",
    "if \"2eme voiture\" in filtered_df___.columns:\n",
    "    filtered_df___.rename(columns={'2eme voiture': 'deuxiemeVoiture'}, inplace=True)\n",
    "print(filtered_df___.dtypes)"
   ]
  },
  {
   "cell_type": "code",
   "execution_count": 37,
   "id": "3b776853-fb66-4d6e-b331-3fdc432db717",
   "metadata": {},
   "outputs": [
    {
     "name": "stdout",
     "output_type": "stream",
     "text": [
      "0\n",
      "1000\n",
      "2000\n",
      "3000\n",
      "4000\n",
      "5000\n",
      "6000\n",
      "7000\n",
      "8000\n",
      "9000\n",
      "10000\n",
      "11000\n",
      "12000\n",
      "13000\n",
      "14000\n",
      "15000\n",
      "16000\n",
      "17000\n",
      "18000\n",
      "19000\n",
      "20000\n",
      "21000\n",
      "22000\n",
      "23000\n",
      "24000\n",
      "25000\n",
      "26000\n",
      "27000\n",
      "28000\n",
      "29000\n",
      "30000\n",
      "31000\n",
      "32000\n",
      "33000\n",
      "34000\n",
      "35000\n",
      "36000\n",
      "37000\n",
      "38000\n",
      "39000\n",
      "40000\n",
      "41000\n",
      "42000\n",
      "43000\n",
      "44000\n",
      "45000\n",
      "46000\n",
      "47000\n",
      "48000\n",
      "49000\n",
      "50000\n",
      "51000\n",
      "52000\n",
      "53000\n",
      "54000\n",
      "55000\n",
      "56000\n",
      "57000\n",
      "58000\n",
      "59000\n",
      "60000\n",
      "61000\n",
      "62000\n",
      "63000\n",
      "64000\n",
      "65000\n",
      "66000\n",
      "67000\n",
      "68000\n",
      "69000\n",
      "70000\n",
      "71000\n",
      "72000\n",
      "73000\n",
      "74000\n",
      "75000\n",
      "76000\n",
      "77000\n",
      "78000\n",
      "79000\n",
      "80000\n",
      "81000\n",
      "82000\n",
      "83000\n",
      "84000\n",
      "85000\n",
      "86000\n",
      "87000\n",
      "88000\n",
      "89000\n",
      "90000\n",
      "91000\n",
      "92000\n",
      "93000\n",
      "94000\n",
      "95000\n",
      "96000\n",
      "97000\n",
      "98000\n",
      "99000\n",
      "100000\n",
      "101000\n",
      "102000\n",
      "103000\n",
      "104000\n",
      "105000\n",
      "106000\n",
      "107000\n",
      "108000\n",
      "109000\n",
      "110000\n",
      "111000\n",
      "112000\n",
      "113000\n",
      "114000\n",
      "115000\n",
      "116000\n",
      "117000\n",
      "118000\n",
      "119000\n",
      "120000\n",
      "121000\n",
      "122000\n",
      "123000\n",
      "124000\n",
      "125000\n",
      "126000\n",
      "127000\n",
      "128000\n",
      "129000\n",
      "130000\n",
      "131000\n",
      "132000\n",
      "133000\n",
      "134000\n",
      "135000\n",
      "136000\n",
      "137000\n",
      "138000\n",
      "139000\n",
      "140000\n",
      "141000\n",
      "142000\n",
      "143000\n",
      "144000\n",
      "145000\n",
      "146000\n",
      "147000\n",
      "148000\n",
      "149000\n",
      "150000\n",
      "151000\n",
      "152000\n",
      "153000\n",
      "154000\n",
      "155000\n",
      "156000\n",
      "157000\n",
      "158000\n",
      "159000\n",
      "160000\n",
      "161000\n",
      "162000\n",
      "163000\n",
      "164000\n",
      "165000\n",
      "166000\n",
      "167000\n",
      "168000\n",
      "169000\n",
      "170000\n",
      "171000\n",
      "172000\n",
      "173000\n",
      "174000\n",
      "175000\n",
      "176000\n",
      "177000\n",
      "178000\n",
      "179000\n",
      "180000\n",
      "181000\n",
      "182000\n",
      "183000\n",
      "184000\n",
      "185000\n",
      "186000\n",
      "187000\n",
      "188000\n",
      "189000\n",
      "190000\n",
      "191000\n",
      "192000\n",
      "193000\n",
      "194000\n",
      "195000\n",
      "196000\n"
     ]
    }
   ],
   "source": [
    "batch_size = 1000\n",
    "\n",
    "for i in range(0, len(filtered_df___), batch_size):\n",
    "    batch_df = filtered_df___.iloc[i:i+batch_size]\n",
    "    values = ','.join(['({})'.format(','.join([\"'{}'\".format(str(val)) for val in row])) for row in batch_df.values])\n",
    "    cursor.execute(\"\"\"\n",
    "        INSERT INTO clients (age, sexe, taux, situationFamiliale, nbEnfantsAcharge, deuxiemeVoiture, immatriculation)\n",
    "        VALUES {}\n",
    "    \"\"\".format(values))\n",
    "    print(i)"
   ]
  },
  {
   "cell_type": "code",
   "execution_count": 38,
   "id": "183f6419-4577-4b23-9c75-c5dc2d051a60",
   "metadata": {},
   "outputs": [],
   "source": [
    "# Commit the transaction\n",
    "conn.commit()\n",
    "\n",
    "# Close cursor and connection\n",
    "cursor.close()\n",
    "conn.close()"
   ]
  },
  {
   "cell_type": "code",
   "execution_count": null,
   "id": "7a02f39e-714b-4bdc-a895-0d3aeaa06965",
   "metadata": {},
   "outputs": [],
   "source": []
  }
 ],
 "metadata": {
  "kernelspec": {
   "display_name": "Python 3 (ipykernel)",
   "language": "python",
   "name": "python3"
  },
  "language_info": {
   "codemirror_mode": {
    "name": "ipython",
    "version": 3
   },
   "file_extension": ".py",
   "mimetype": "text/x-python",
   "name": "python",
   "nbconvert_exporter": "python",
   "pygments_lexer": "ipython3",
   "version": "3.9.18"
  }
 },
 "nbformat": 4,
 "nbformat_minor": 5
}
